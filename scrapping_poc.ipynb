{
 "cells": [
  {
   "cell_type": "code",
   "execution_count": 1,
   "metadata": {},
   "outputs": [],
   "source": [
    "from scraper import WebScraper"
   ]
  },
  {
   "cell_type": "code",
   "execution_count": 2,
   "metadata": {},
   "outputs": [],
   "source": [
    "keywords = [\"Sperrkonto\"]  # Stichwörter für die Suche\n",
    "foldername = \"Results_from_scraper\""
   ]
  },
  {
   "cell_type": "code",
   "execution_count": null,
   "metadata": {},
   "outputs": [],
   "source": [
    "url = \"https://www.berlin.de/einwanderung/service/faq/\"\n",
    "scraper = WebScraper(keywords)\n",
    "scraper.scrape(url)\n",
    "# Option 1: als csv Speichern\n",
    "scraper.save_results_to_file(filename = f\"berlinde_{'_'.join(map(str, keywords))}\", folder = foldername, filetype = \"csv\")\n",
    "\n",
    "# Option 2: als JSON speichern\n",
    "scraper.save_results_to_file(filename = f\"berlinde_{'_'.join(map(str, keywords))}\", folder = foldername, filetype = \"json\")"
   ]
  },
  {
   "cell_type": "code",
   "execution_count": null,
   "metadata": {},
   "outputs": [],
   "source": [
    "second_url = \"https://www.studying-in-germany.org/de/sperrkonto-auslaendische-studenten/\"\n",
    "scraper = WebScraper(keywords)\n",
    "scraper.scrape(second_url)\n",
    "scraper.save_results_to_file(filename= f\"studying-in-germanyorg_{'_'.join(map(str, keywords))}\", folder = foldername, filetype=\"json\")"
   ]
  }
 ],
 "metadata": {
  "kernelspec": {
   "display_name": "Python 3",
   "language": "python",
   "name": "python3"
  },
  "language_info": {
   "codemirror_mode": {
    "name": "ipython",
    "version": 3
   },
   "file_extension": ".py",
   "mimetype": "text/x-python",
   "name": "python",
   "nbconvert_exporter": "python",
   "pygments_lexer": "ipython3",
   "version": "3.9.0"
  }
 },
 "nbformat": 4,
 "nbformat_minor": 2
}
