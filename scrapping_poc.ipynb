{
 "cells": [
  {
   "cell_type": "code",
   "execution_count": 9,
   "metadata": {},
   "outputs": [],
   "source": [
    "from scraper import WebScraper"
   ]
  },
  {
   "cell_type": "code",
   "execution_count": 3,
   "metadata": {},
   "outputs": [],
   "source": [
    "foldername = \"Results_from_scraper\"\n",
    "\n",
    "def start_scraping(keywords:list, sites:dict):\n",
    "    for keyword in keywords:\n",
    "        for site in sites:\n",
    "            scraper = WebScraper([keyword])\n",
    "            scraper.scrape(sites[site])\n",
    "            scraper.save_results_to_file(filename= \"scraped_data\", folder= foldername, filetype= \"json\", append_existing_file= True)\n",
    "            scraper.save_html(filename= \"htmlcontents\", folder= foldername)\n",
    "            print()"
   ]
  },
  {
   "cell_type": "markdown",
   "metadata": {},
   "source": [
    "# Bewerbung\n",
    "### Wo kann ich mich bewerben und welche Voraussetzungen müssen erfüllt sein? "
   ]
  },
  {
   "cell_type": "code",
   "execution_count": null,
   "metadata": {},
   "outputs": [],
   "source": [
    "application_keywords = [\"bewerben\", \"Bewerbung\", \"Voraussetzung\"]\n",
    "\n",
    "application_sites = {\n",
    "    \"hwr\" : \"https://www.hwr-berlin.de/studium/bewerbung/bewerbungsverfahren/#c25999\",\n",
    "    \"anabin\" : \"https://anabin.kmk.org/no_cache/filter/schulabschluesse-mit-hochschulzugang.html#land_gewaehlt\",\n",
    "    \"daad\" : \"https://www.daad.de/de/in-deutschland-studieren/voraussetzungen/zulassungsdatenbank/\",\n",
    "    \"berlinde\": \"https://www.berlin.de/sen/wissenschaft/studium/hochschulzulassung/#:~:text=Nicht-EU-Ausl%C3%A4nderinnen%20und%20Ausl%C3%A4nder%2C%20die%20kein%20Abitur%20und%20keinen,studieren%2C%20wenn%20sie%20einen%20gleichwertigen%20ausl%C3%A4ndischen%20Schulabschluss%20nachweisen.\",\n",
    "    \"hochschulstart\" : \"https://www.hochschulstart.de/informieren-planen/internationale-bewerbende\",\n",
    "    \"htw-bewerbung\" : \"https://www.htw-berlin.de/studium/bewerbung/bewerbung-ueber-uni-assist/\",\n",
    "    \"hu\": \"https://www.hu-berlin.de/de/studium/bewerbung/bewerbung-und-zulassung/informationen-fuer-internationale-studieninteressierte/informationen-zur-bewerbung-fuer-internationale-studieninteressierte\",\n",
    "    \"uni-assist\" : \"https://www.uni-assist.de/tools/uni-assist-hochschulen/\",\n",
    "    \"fu-berlin\" : \"https://www.fu-berlin.de/studium/international/studium_fu/index.html\",\n",
    "    \"htw-bewerbung2\" : \"https://www.htw-berlin.de/studium/bewerbung/bewerbung-ueber-uni-assist/zeugnisbewertung/\",\n",
    "    \"fu-berlin2\" : \"https://www.fu-berlin.de/studium/bewerbung/bachelor/ausl-hzb/index.html\",\n",
    "    \"tu-berlin\" : \"https://www.tu.berlin/studierendensekretariat/bewerbung-einschreibung-bachelor/studieninteressierte-mit-auslaendischen-bildungsnachweisen/bewerbung/bewerbungsgruppe-c\",\n",
    "    \"hrk\" : \"https://www.hrk.de/themen/internationales/internationale-studierende-und-forschende/hochschulzugang-fuer-internationale-studierende/uni-assist-ev/\"\n",
    "}\n",
    "\n",
    "start_scraping(application_keywords, application_sites)"
   ]
  },
  {
   "cell_type": "markdown",
   "metadata": {},
   "source": [
    "### Welche Sprachkenntnisse muss ich vorweisen und wie werden diese nachgewiesen?"
   ]
  },
  {
   "cell_type": "code",
   "execution_count": null,
   "metadata": {},
   "outputs": [],
   "source": [
    "language_keywords = [\"Sprach\", \"Nachweis\"]\n",
    "\n",
    "languages_sites = {\n",
    "    \"kmk\" : \"https://www.kmk.org/themen/deutsches-sprachdiplom-dsd/deutsche-sprachkenntnisse-fuer-den-hochschulzugang.html\",\n",
    "    \"hochschulstart\" : \"https://www.hochschulstart.de/informieren-planen/internationale-bewerbende#c773\", \n",
    "    \"hrk\" : \"https://www.hrk.de/themen/internationales/internationale-studierende-und-forschende/hochschulzugang-fuer-internationale-studierende/sprachnachweis-deutsch/\"\n",
    "\n",
    "}\n",
    "start_scraping(language_keywords, languages_sites)"
   ]
  },
  {
   "cell_type": "markdown",
   "metadata": {},
   "source": [
    "### Welche Unterlagen werden für eine Bewerbung benötigt?"
   ]
  },
  {
   "cell_type": "code",
   "execution_count": null,
   "metadata": {},
   "outputs": [],
   "source": [
    "documents_keywords = [\"Unterlagen\", \"Dokumente\"]\n",
    "documents_sites = {\n",
    "    \"daad\" : \"https://www.daad.de/de/in-deutschland-studieren/voraussetzungen/ueberblick/\",\n",
    "    \"uni-assist\" : \"https://www.uni-assist.de/bewerben/dokumente-sammeln/sonstige-dokumente/\",\n",
    "    \"htw-berlin\" : \"https://www.htw-berlin.de/studium/bewerbung/bewerbung-ueber-uni-assist/#:~:text=Sprachnachweise%2C,sowie%20einen%20verifizierten%20Notenspiegel%20ein.\",\n",
    "    \"uni-assist2\" : \"https://www.uni-assist.de/bewerben/dokumente-sammeln/\"\n",
    "}\n",
    "start_scraping(documents_keywords, documents_sites)"
   ]
  },
  {
   "cell_type": "markdown",
   "metadata": {},
   "source": [
    "### Wo kann ich meine Unterlagen beglaubigen lassen?"
   ]
  },
  {
   "cell_type": "code",
   "execution_count": null,
   "metadata": {},
   "outputs": [],
   "source": [
    "authenticate_keywords = [\"Beglaubigen\", \"Notar\", \"Original\"]\n",
    "authenticate_sites = {\n",
    "    \"auswärtiges-amt\" : \"https://www.auswaertiges-amt.de/de/service/fragenkatalog-node/-/606802?openAccordionId=item-606188-7-panel\",\n",
    "    \"tu-berlin\" : \"https://www.tu.berlin/studierendensekretariat/themen-a-z/amtliche-beglaubigung-und-uebersetzung\",\n",
    "    \"uni-assist\" : \"https://www.uni-assist.de/bewerben/dokumente-sammeln/beglaubigungen-uebersetzungen/\"\n",
    "}\n",
    "\n",
    "start_scraping(authenticate_keywords, authenticate_sites)"
   ]
  },
  {
   "cell_type": "markdown",
   "metadata": {},
   "source": [
    "### Welche Fristen muss ich bei der Bewerbung beachten? "
   ]
  },
  {
   "cell_type": "code",
   "execution_count": null,
   "metadata": {},
   "outputs": [],
   "source": [
    "application_deadline_keywords = [\"Bewerbungsfrist\", \"Frist\", \"Termin\"]\n",
    "application_deadline_sites = {\n",
    "    \"int-studierende\" : \"https://www.internationale-studierende.de/fragen-zur-vorbereitung/studienvorraussetzungen\",\n",
    "    \"hu-berlin\" : \"https://www.hu-berlin.de/de/studium/bewerbung/fristen\",\n",
    "    \"fu-berlin\" : \"https://www.fu-berlin.de/studium/bewerbung/bewerbungsfristen/index.html\",\n",
    "    \"tu-berlin\" : \"https://www.tu.berlin/international/studierende/internationale-studierende/austausch-an-die-tu-berlin/bewerbung-austausch/fristen-und-termine\"\n",
    "}\n",
    "\n",
    "start_scraping(application_deadline_keywords, application_deadline_sites)"
   ]
  },
  {
   "cell_type": "markdown",
   "metadata": {},
   "source": [
    "### Wer entscheidet über meine Zulassung zum Studium?"
   ]
  },
  {
   "cell_type": "code",
   "execution_count": null,
   "metadata": {},
   "outputs": [],
   "source": [
    "admission_keywords = [\"Zulassung\", \"entscheid\"]\n",
    "admission_sites = {\n",
    "    \n",
    "}\n",
    "\n",
    "start_scraping(admission_keywords, admission_sites)"
   ]
  },
  {
   "cell_type": "markdown",
   "metadata": {},
   "source": [
    "### Gibt es einen Eignungstest für die Studiengänge an deutschen Hochschulen?"
   ]
  },
  {
   "cell_type": "code",
   "execution_count": null,
   "metadata": {},
   "outputs": [],
   "source": [
    "aptitude_test_keywords = [\"Eignungstest\"]\n",
    "aptitude_test_sites = {\n",
    "    \"hrk\" : \"https://www.hrk.de/fileadmin/_migrated/content_uploads/Testas-Handreichung-16.2.2011.pdf\",\n",
    "    \"hrk2\" : \"https://www.hrk.de/themen/internationales/internationale-studierende-und-forschende/hochschulzugang-fuer-internationale-studierende/testas/\",\n",
    "    \"hrk3\" : \"https://www.hrk.de/themen/internationales/internationale-studierende-und-forschende/hochschulzugang-fuer-internationale-studierende/\"\n",
    "}\n",
    "\n",
    "start_scraping(aptitude_test_keywords, aptitude_test_sites)"
   ]
  },
  {
   "cell_type": "markdown",
   "metadata": {},
   "source": [
    "### Wo bekomme ich weitere Beratungsmöglichkeiten? "
   ]
  },
  {
   "cell_type": "code",
   "execution_count": null,
   "metadata": {},
   "outputs": [],
   "source": [
    "consulting_keywords = [\"Beratung\"]\n",
    "consulting_sites = {\n",
    "    \"tu-berlin\" : \"https://www.tu.berlin/international/starten-an-der-tu-berlin/services-und-angebote/beratungsangebote-fuer-studierende\",\n",
    "    \"studierendenwerk\" : \"https://www.stw.berlin/international/welcome-to-berlin.html\",\n",
    "    \"fu-berlin\" : \"https://www.fu-berlin.de/einrichtungen/service/studierende/international/index.html\"\n",
    "}\n",
    "\n",
    "start_scraping(consulting_keywords, consulting_sites)"
   ]
  },
  {
   "cell_type": "markdown",
   "metadata": {},
   "source": [
    "### Wer entscheidet über die Anerkennung von im Ausland erworbenen Studienleistungen? "
   ]
  },
  {
   "cell_type": "code",
   "execution_count": null,
   "metadata": {},
   "outputs": [],
   "source": [
    "abroad_keywords = [\"Leistungen\", \"Anerkennung\", \"Ausland\"]\n",
    "abroad_sites = {\n",
    "    \"kmk\" : \"https://www.kmk.org/zab/zentralstelle-fuer-auslaendisches-bildungswesen.html\",\n",
    "    \"anabin\" : \"https://anabin.kmk.org/no_cache/filter/hochschulabschluesse.html\",\n",
    "    \"anerkennung\" : \"https://www.anerkennung-in-deutschland.de/html/de/hochschule.php#module9764\"\n",
    "}\n",
    "\n",
    "start_scraping(abroad_keywords, abroad_sites)"
   ]
  },
  {
   "cell_type": "markdown",
   "metadata": {},
   "source": [
    "# Leben und Wohnen in Berlin Wohnungen finden \n",
    "\n",
    "### Wie finde ich eine Wohnung in Berlin?"
   ]
  },
  {
   "cell_type": "code",
   "execution_count": null,
   "metadata": {},
   "outputs": [],
   "source": [
    "appartment_keywords = [\"Wohnung\", \"Suche\", \"Wohngemeinschaft\", \"WG\"]\n",
    "appartment_sites = {\n",
    "    \"hu-berlin\": \"https://www.international.hu-berlin.de/de/an-die-hu/services-informationen/wohnen\",\n",
    "    \"allaboutberlin\": \"https://allaboutberlin.com/guides/find-a-flat-in-berlin\",\n",
    "    \"housinganywhere\": \"https://housinganywhere.com/de/s/Berlin--Deutschland\",\n",
    "    \"immoscout\": \"https://www.immobilienscout24.de/Suche/de/berlin/berlin/wg-zimmer\",\n",
    "    \"wg\": \"https://www.wg-gesucht.de/wg-zimmer-in-Berlin.8.0.1.0.html\",\n",
    "    \"htw-berlin\": \"https://www.htw-berlin.de/international/wege-an-die-htw-berlin/international-degree-seeking-students/leben-in-berlin/\"\n",
    "}\n",
    "\n",
    "start_scraping(appartment_keywords, appartment_sites)"
   ]
  },
  {
   "cell_type": "markdown",
   "metadata": {},
   "source": [
    "### Wie lerne ich Menschen in Berlin am besten kennen?"
   ]
  },
  {
   "cell_type": "code",
   "execution_count": null,
   "metadata": {},
   "outputs": [],
   "source": [
    "get_to_know_keywords = [\"kennenlernen\"]\n",
    "get_to_know_sites = {\n",
    "    \"allaboutberlin\" : \"https://allaboutberlin.com/guides/making-friends\",\n",
    "    \"stw\" : \"https://www.stw.berlin/kultur/get-together/get-together/\"\n",
    "\n",
    "}\n",
    "\n",
    "start_scraping(get_to_know_keywords, get_to_know_sites)"
   ]
  },
  {
   "cell_type": "markdown",
   "metadata": {},
   "source": [
    "### Mit welchen Kosten muss ich als Student in Berlin rechnen?"
   ]
  },
  {
   "cell_type": "code",
   "execution_count": 10,
   "metadata": {},
   "outputs": [],
   "source": [
    "costs_keywords = [\"Kosten\", \"Ausgaben\"]  # Stichwörter für die Suche\n",
    "costs_sites = {\n",
    "    \"fu-berlin\" : \"https://www.fu-berlin.de/studium/international/studium_fu/studienfinanzierung/index.html\",\n",
    "    \"hwr\" : \"https://www.hwr-berlin.de/studium/international-studieren/international-students/\",\n",
    "    \"int-studierende\" : \"https://www.internationale-studierende.de/finanzierung\"\n",
    "}\n",
    "\n",
    "start_scraping(costs_keywords, costs_sites)\n",
    "\n"
   ]
  },
  {
   "cell_type": "markdown",
   "metadata": {},
   "source": [
    "### Welche Voraussetzungen müssen internationale Studierende erfüllen, um BAföG in Deutschland zu erhalten?"
   ]
  },
  {
   "cell_type": "code",
   "execution_count": null,
   "metadata": {},
   "outputs": [],
   "source": [
    "bafoeg_keywords = [\"BAföG\", \"Voraussetzungen\", \"Bedingungen\"]\n",
    "bafoeg_sites = {\n",
    "    \"stw\" : \"https://www.stw.berlin/finanzierung/bafög-faq/bafoeg-international.html\",\n",
    "    \"fu-berlin\" : \"https://www.fu-berlin.de/sites/welcome/studienfinanzierung/BAfoeG/index.html\",\n",
    "    \"study-in-germany\" : \"https://www.study-in-germany.de/de/studium-planen/besondere-lebensumstaende/studienangebote-fuer-gefluechtete/#tab-0b969685\",\n",
    "    \"stw2\" : \"https://www.stw.berlin/finanzierung/\"\n",
    "}\n",
    "\n",
    "start_scraping(bafoeg_keywords, bafoeg_sites)"
   ]
  },
  {
   "cell_type": "markdown",
   "metadata": {},
   "source": [
    "### Benötigen internationale Studierende in Deutschland ein Sperrkonto, um ein Studium aufzunehmen?"
   ]
  },
  {
   "cell_type": "code",
   "execution_count": null,
   "metadata": {},
   "outputs": [],
   "source": [
    "blocked_account_keywords = [\"Sperrkonto\"]\n",
    "blocked_account_sites = {\n",
    "    \"auswärtiges-amt\" : \"https://www.auswaertiges-amt.de/de/sperrkonto/375488\",\n",
    "    \"studying-in-germany\" : \"https://www.studying-in-germany.org/de/sperrkonto-auslaendische-studenten/\",\n",
    "    \"sparkasse\" : \"https://www.sparkasse.de/pk/ratgeber/bildung/studium/sperrkonto.html\",\n",
    "    \"berlin.de\" : \"https://www.berlin.de/einwanderung/service/faq/\"\n",
    "}\n",
    "\n",
    "start_scraping(blocked_account_keywords, blocked_account_sites)"
   ]
  },
  {
   "cell_type": "markdown",
   "metadata": {},
   "source": [
    "### Welche Stipendienprogramme stehen speziell für internationale Studierende in Berlin zur verfügung?"
   ]
  },
  {
   "cell_type": "code",
   "execution_count": null,
   "metadata": {},
   "outputs": [],
   "source": [
    "scholarship_keywords = [\"Stipendium\"]\n",
    "scholarship_sites = {\n",
    "    \"udk\" : \"https://www.udk-berlin.de/service/international-office/stipendienprogramme/stipendien-fuer-internationale-studierende-an-der-udk-berlin/studienabschluss-stipendien-fuer-internationale-studierende-stibet-i/\",\n",
    "    \"udk2\" : \"https://www.udk-berlin.de/service/international-office/stipendienprogramme/stipendien-fuer-internationale-studierende-an-der-udk-berlin/stipendien-fuer-mehr-chancengerechtigkeit/\",\n",
    "    \"mystipendium\" : \"https://www.mystipendium.de/stipendien/hu-berlin-abschlussstipendien\"\n",
    "}\n",
    "\n",
    "start_scraping(scholarship_keywords, scholarship_sites)"
   ]
  },
  {
   "cell_type": "markdown",
   "metadata": {},
   "source": [
    "### Können internationale Studierende während ihres Studiums in Deutschland arbeiten, und wenn ja, wie viele Stunden pro Woche?"
   ]
  },
  {
   "cell_type": "code",
   "execution_count": null,
   "metadata": {},
   "outputs": [],
   "source": [
    "work_keywords = [\"Arbeiten\", \"Lohn\", \"Gehalt\", \"Verdienst\", \"verdienen\", \"Stunden\"]\n",
    "work_sites = {\n",
    "    \"lmu\" : \"https://www.lmu.de/de/workspace-fuer-studierende/international-student-guide/arbeiten-in-deutschland/index.html\",\n",
    "    \"int-studierende\" : \"https://www.internationale-studierende.de/waehrend-des-studiums/jobben\",\n",
    "    \"daad\" : \"https://www.daad.de/de/in-deutschland-studieren/arbeit-karriere/nebenjobs/\"\n",
    "}\n",
    "\n",
    "start_scraping(work_keywords, work_sites)"
   ]
  },
  {
   "cell_type": "markdown",
   "metadata": {},
   "source": [
    "### Muss ein internationaler Studierender in Deutschland Steuern zahlen?"
   ]
  },
  {
   "cell_type": "code",
   "execution_count": null,
   "metadata": {},
   "outputs": [],
   "source": [
    "tax_keywords = [\"Steuern\"]\n",
    "tax_sites = {\n",
    "    \"daad\" : \"https://www.daad.de/de/\",\n",
    "    \"stud\" : \"https://studentensteuererklaerung.de\",\n",
    "    \"arbeitsagentur\" : \"https://www.arbeitsagentur.de\"\n",
    "}\n",
    "\n",
    "start_scraping(tax_keywords, tax_sites)"
   ]
  },
  {
   "cell_type": "markdown",
   "metadata": {},
   "source": [
    "# Aufenthalt:\n",
    "### Welche Visumstypen benötige ich für ein Studium in Deutschland?\n",
    "inklusive allgeine Themen rund ums Visum"
   ]
  },
  {
   "cell_type": "code",
   "execution_count": null,
   "metadata": {},
   "outputs": [],
   "source": [
    "visa_keywords = [\"Visum\", \"Voraussetzung\", \"Antrag\", \"Verlängerung\", \"Dauer\"]\n",
    "visa_sites = {\n",
    "    \"germany\" : \"https://www.germany.info/us-en/service/02-VisaEinreise/00-visa/928242\",\n",
    "    \"auswertigesamt\" : \"https://www.auswaertiges-amt.de/de/service/visa\",\n",
    "    \"arbeitsagentur\" : \"https://www.arbeitsagentur.de/vor-ort/internationales/aufenthaltsgenehmigung\",\n",
    "    \"stw\" : \"https://www.studierendenwerke.de/de/informationen-zum-aufenthalt-und-visa\",\n",
    "    \"study-in\" : \"https://www.study-in-germany.de/de/studium-planen/voraussetzungen/visum/\",\n",
    "    \"axa\" : \"https://www.axa-schengen.com/de/deutschland-visum/studentenvisum-deutschland\",\n",
    "    \"bamf\" : \"https://www.bamf.de/DE/Themen/MigrationAufenthalt/ZuwandererDrittstaaten/Bildung/Studium/studium-node.html\",\n",
    "    \"make-it\" : \"https://www.make-it-in-germany.com/de/\",\n",
    "    \"germany-visa\" : \"https://www.germany-visa.org/student-visa/\",\n",
    "    \"axa2\" : \"https://www.axa-schengen.com/de\",\n",
    "    \"germany-visa2\" : \"https://www.germany-visa.org/student-residence-permit\",\n",
    "    \"daad\" : \"https://www.daad.de/de/in-deutschland-studieren/leben-in-deutschland/visum/\",\n",
    "    \"germany-visa3\" : \"https://www.germany-visa.org/de/studentenvisum/studentenvisum-deutschland-wie-erhalte-ich-ein-deutsches-studentenvisum/\",\n",
    "    \"study-in2\" : \"https://www.studying-in-germany.org/de/studentenvisum-deutschland/\",\n",
    "    \"koeln\" : \"https://www.th-koeln.de/internationales/visum_66057.php\",\n",
    "    \"gesetze\" : \"https://www.gesetze-im-internet.de/aufenthg_2004/__16b.html\",\n",
    "    \"ilmenau\" : \"https://www.tu-ilmenau.de/en/study/in-study/course-of-studies/administrative-guide/visa-and-residence-permit\",\n",
    "    \"bamf2\" : \"https://www.bamf.de/EN/Themen/MigrationAufenthalt/ZuwandererDrittstaaten/Bildung/Studium/studium-node.html\"\n",
    "}\n",
    "\n",
    "start_scraping(visa_keywords, visa_sites)"
   ]
  }
 ],
 "metadata": {
  "kernelspec": {
   "display_name": "Python 3",
   "language": "python",
   "name": "python3"
  },
  "language_info": {
   "codemirror_mode": {
    "name": "ipython",
    "version": 3
   },
   "file_extension": ".py",
   "mimetype": "text/x-python",
   "name": "python",
   "nbconvert_exporter": "python",
   "pygments_lexer": "ipython3",
   "version": "3.9.0"
  }
 },
 "nbformat": 4,
 "nbformat_minor": 2
}
