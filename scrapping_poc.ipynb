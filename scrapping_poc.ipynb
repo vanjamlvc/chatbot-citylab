{
 "cells": [
  {
   "cell_type": "code",
   "execution_count": 6,
   "metadata": {},
   "outputs": [],
   "source": [
    "from scraper import WebScraper"
   ]
  },
  {
   "cell_type": "code",
   "execution_count": 7,
   "metadata": {},
   "outputs": [],
   "source": [
    "keywords = [\"Kosten\", \"Ausgaben\"]  # Stichwörter für die Suche\n",
    "sites = {\n",
    "    \"fu-berlin\" : \"https://www.fu-berlin.de/studium/international/studium_fu/studienfinanzierung/index.html\",\n",
    "    \"hwr\" : \"https://www.hwr-berlin.de/studium/international-studieren/international-students/\",\n",
    "    \"int-studierende\" : \"https://www.internationale-studierende.de/finanzierung\"\n",
    "}\n",
    "foldername = \"Results_from_scraper\""
   ]
  },
  {
   "cell_type": "code",
   "execution_count": 8,
   "metadata": {},
   "outputs": [
    {
     "name": "stdout",
     "output_type": "stream",
     "text": [
      "Fehler beim Zugriff auf robots.txt oder beim Parsen der URL: <urlopen error [WinError 10060] Ein Verbindungsversuch ist fehlgeschlagen, da die Gegenstelle nach einer bestimmten Zeitspanne nicht richtig reagiert hat, oder die hergestellte Verbindung war fehlerhaft, da der verbundene Host nicht reagiert hat>\n",
      "Error: not allowed to enter http://www.bafoeg.bmbf.de/de/370.php\n",
      "Fehler beim Zugriff auf robots.txt oder beim Parsen der URL: <urlopen error [WinError 10060] Ein Verbindungsversuch ist fehlgeschlagen, da die Gegenstelle nach einer bestimmten Zeitspanne nicht richtig reagiert hat, oder die hergestellte Verbindung war fehlerhaft, da der verbundene Host nicht reagiert hat>\n",
      "Error: not allowed to enter http://www.bafoeg.bmbf.de/de/370.php\n",
      "Ergebnisse zur Suche nach Kosten mit Basisadresse https://www.fu-berlin.de/studium/international/studium_fu/studienfinanzierung/index.html wurden in Results_from_scraper/scraped_data.json gespeichert.\n",
      "Error: not allowed to enter https://www.stw.berlin/wohnen.html\n",
      "Error: not allowed to enter https://www.stw.berlin/wohnen.html#jump_wohnheim-portal_-_bewerbungsplattform\n",
      "Fehler beim Abrufen der Seite: 401 Client Error: Unauthorized for url: https://www.immobilienscout24.de/Suche/de/berlin/berlin/wg-zimmer\n",
      "Fehler beim Abrufen der Seite: 401 Client Error: Unauthorized for url: https://www.immobilienscout24.de/Suche/de/berlin/berlin/wg-zimmer?enteredFrom=one_step_search\n",
      "Fehler beim Abrufen der Seite: 401 Client Error: Unauthorized for url: https://www.immobilienscout24.de/Suche/de/berlin/berlin/wohnung-mieten?enteredFrom=one_step_search\n",
      "Ergebnisse zur Suche nach Kosten mit Basisadresse https://www.hwr-berlin.de/studium/international-studieren/international-students/ wurden in Results_from_scraper/scraped_data.json gespeichert.\n",
      "Error: not allowed to enter http://ranking.zeit.de/lebenshaltungskosten\n",
      "Fehler beim Abrufen der Seite: 404 Client Error: Not Found for url: https://www.studis-online.de/studienfinanzierung/kosten.php\n",
      "Error: not allowed to enter http://ranking.zeit.de/lebenshaltungskosten\n",
      "Ergebnisse zur Suche nach Kosten mit Basisadresse https://www.internationale-studierende.de/finanzierung wurden in Results_from_scraper/scraped_data.json gespeichert.\n",
      "Fehler beim Zugriff auf robots.txt oder beim Parsen der URL: <urlopen error [WinError 10060] Ein Verbindungsversuch ist fehlgeschlagen, da die Gegenstelle nach einer bestimmten Zeitspanne nicht richtig reagiert hat, oder die hergestellte Verbindung war fehlerhaft, da der verbundene Host nicht reagiert hat>\n",
      "Error: not allowed to enter http://www.bafoeg.bmbf.de/de/370.php\n",
      "Fehler beim Zugriff auf robots.txt oder beim Parsen der URL: <urlopen error [WinError 10060] Ein Verbindungsversuch ist fehlgeschlagen, da die Gegenstelle nach einer bestimmten Zeitspanne nicht richtig reagiert hat, oder die hergestellte Verbindung war fehlerhaft, da der verbundene Host nicht reagiert hat>\n",
      "Error: not allowed to enter http://www.bafoeg.bmbf.de/de/370.php\n",
      "Ergebnisse zur Suche nach Ausgaben mit Basisadresse https://www.fu-berlin.de/studium/international/studium_fu/studienfinanzierung/index.html wurden in Results_from_scraper/scraped_data.json gespeichert.\n",
      "Ergebnisse zur Suche nach Ausgaben mit Basisadresse https://www.hwr-berlin.de/studium/international-studieren/international-students/ wurden in Results_from_scraper/scraped_data.json gespeichert.\n",
      "Ergebnisse zur Suche nach Ausgaben mit Basisadresse https://www.internationale-studierende.de/finanzierung wurden in Results_from_scraper/scraped_data.json gespeichert.\n"
     ]
    }
   ],
   "source": [
    "for keyword in keywords:\n",
    "    for site in sites:\n",
    "        scraper = WebScraper([keyword])\n",
    "        scraper.scrape(sites[site])\n",
    "        scraper.save_results_to_file(filename= \"scraped_data\", folder= foldername, filetype= \"json\", append_existing_file= True)"
   ]
  },
  {
   "cell_type": "code",
   "execution_count": 9,
   "metadata": {},
   "outputs": [],
   "source": [
    "# url = \"https://www.berlin.de/einwanderung/service/faq/\"\n",
    "# scraper = WebScraper(keywords)\n",
    "# scraper.scrape(url)\n",
    "# # Option 1: als csv Speichern\n",
    "# scraper.save_results_to_file(filename = f\"berlinde_{'_'.join(map(str, keywords))}\", folder = foldername, filetype = \"csv\")\n",
    "\n",
    "# # Option 2: als JSON speichern\n",
    "# scraper.save_results_to_file(filename = f\"berlinde_{'_'.join(map(str, keywords))}\", folder = foldername, filetype = \"json\")"
   ]
  },
  {
   "cell_type": "code",
   "execution_count": 10,
   "metadata": {},
   "outputs": [],
   "source": [
    "# second_url = \"https://www.studying-in-germany.org/de/sperrkonto-auslaendische-studenten/\"\n",
    "# scraper = WebScraper(keywords)\n",
    "# scraper.scrape(second_url)\n",
    "# scraper.save_results_to_file(filename= f\"studying-in-germanyorg_{'_'.join(map(str, keywords))}\", folder = foldername, filetype=\"json\")"
   ]
  }
 ],
 "metadata": {
  "kernelspec": {
   "display_name": "Python 3",
   "language": "python",
   "name": "python3"
  },
  "language_info": {
   "codemirror_mode": {
    "name": "ipython",
    "version": 3
   },
   "file_extension": ".py",
   "mimetype": "text/x-python",
   "name": "python",
   "nbconvert_exporter": "python",
   "pygments_lexer": "ipython3",
   "version": "3.9.0"
  }
 },
 "nbformat": 4,
 "nbformat_minor": 2
}
