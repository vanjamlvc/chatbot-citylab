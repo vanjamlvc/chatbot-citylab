{
 "cells": [
  {
   "cell_type": "code",
   "execution_count": null,
   "metadata": {},
   "outputs": [],
   "source": [
    "import requests\n",
    "from bs4 import BeautifulSoup\n",
    "import re\n",
    "from typing import Optional"
   ]
  },
  {
   "cell_type": "code",
   "execution_count": null,
   "metadata": {},
   "outputs": [],
   "source": [
    "base_url= \"https://www.berlin.de\"\n",
    "faq = \"/einwanderung/service/faq/\"\n"
   ]
  },
  {
   "cell_type": "code",
   "execution_count": null,
   "metadata": {},
   "outputs": [],
   "source": [
    "r = requests.get(base_url + faq)"
   ]
  },
  {
   "cell_type": "code",
   "execution_count": null,
   "metadata": {},
   "outputs": [],
   "source": [
    "print(r.text)"
   ]
  },
  {
   "cell_type": "code",
   "execution_count": null,
   "metadata": {},
   "outputs": [],
   "source": [
    "html = BeautifulSoup(r.text, \"html.parser\")"
   ]
  },
  {
   "cell_type": "code",
   "execution_count": null,
   "metadata": {},
   "outputs": [],
   "source": [
    "def get_content(page:BeautifulSoup, tag:str = None, keyword:str = \"\", **kwargs):\n",
    "    \n",
    "    tags = page.find_all(tag, **kwargs)\n",
    "    if tag == \"a\":\n",
    "        response = []\n",
    "        for element in tags:\n",
    "            if element.text.find(keyword) != -1:\n",
    "                content = {\n",
    "                    \"content\" : element.text,\n",
    "                    \"address\" : base_url + element[\"href\"]\n",
    "                }\n",
    "                response.append(content)\n",
    "        return response\n",
    "    elif tag == \"div\":\n",
    "        for element in tags:\n",
    "            return element\n",
    "            # if element.text.find(\"textile\") != -1:\n",
    "            #     print(element.text)\n",
    "\n",
    "def drop_content(content:BeautifulSoup, regex:str, drop:str)-> Optional[BeautifulSoup]:\n",
    "    # drop = prev or following\n",
    "    \n",
    "    # hits = re.search(\"<h.*>.*Für Sie zuständig\", str(content), re.IGNORECASE)\n",
    "    hits = re.search(regex, str(content), re.IGNORECASE).group()\n",
    "    \n",
    "    if not hits:\n",
    "        return\n",
    "    \n",
    "    if drop == \"prev\":\n",
    "        pass\n",
    "\n",
    "    if drop == \"following\":\n",
    "        element = content.find(string= \"Für Sie zuständig\")\n",
    "        if element:\n",
    "            parent = element.parent\n",
    "            for sibling in parent.find_all_next():\n",
    "                sibling.extract()\n",
    "            element.parent.decompose()\n",
    "    return content\n",
    "                "
   ]
  },
  {
   "cell_type": "code",
   "execution_count": null,
   "metadata": {},
   "outputs": [],
   "source": [
    "# im Falle der Seiten von Berlin.de \n",
    "main_content = get_content(html, \"div\", id = \"layout-grid__area--maincontent\")\n",
    "\n",
    "# print(main_content)\n",
    "\n",
    "keywordsearch = get_content(main_content, \"a\", \"Aufenthaltserlaubnis\")\n",
    "\n",
    "# print(keywordsearch)\n",
    "# print(\"\\n\\n\" + \"#\"*30)\n",
    "\n",
    "for response in keywordsearch:\n",
    "    req = requests.get(response[\"address\"])\n",
    "    html_con = BeautifulSoup(req.text, \"html.parser\")\n",
    "    # print(req.text)\n",
    "    textcontent = get_content(html_con, tag = \"div\", id = \"layout-grid__area--maincontent\")\n",
    "    # print(textcontent.text)\n",
    "    # print(\"\\n\\n\" + \"#\"*30)\n",
    "\n",
    "    furtherlinks = get_content(textcontent, \"a\")\n",
    "    # print(furtherlinks)\n",
    "    # print(\"\\n\\n\" + \"#\"*30)\n",
    "\n",
    "\n",
    "\n",
    "for response in furtherlinks:\n",
    "    req = requests.get(response[\"address\"])\n",
    "    html_con = BeautifulSoup(req.text, \"html.parser\")\n",
    "    # print(req.text)\n",
    "    textcontent = get_content(html_con, tag = \"div\", id = \"layout-grid__area--maincontent\")\n",
    "    print(drop_content(textcontent, regex= \"<h.*>.*Für Sie zuständig\",drop = \"following\").get_text())\n",
    "    # print(\"\\n\\n\" + \"#\"*30)"
   ]
  },
  {
   "cell_type": "code",
   "execution_count": null,
   "metadata": {},
   "outputs": [],
   "source": [
    "re.search(\"<h.*>.*Für Sie zuständig\", str(textcontent)).group()"
   ]
  },
  {
   "cell_type": "code",
   "execution_count": null,
   "metadata": {},
   "outputs": [],
   "source": []
  }
 ],
 "metadata": {
  "kernelspec": {
   "display_name": "Python 3",
   "language": "python",
   "name": "python3"
  },
  "language_info": {
   "codemirror_mode": {
    "name": "ipython",
    "version": 3
   },
   "file_extension": ".py",
   "mimetype": "text/x-python",
   "name": "python",
   "nbconvert_exporter": "python",
   "pygments_lexer": "ipython3",
   "version": "3.9.0"
  }
 },
 "nbformat": 4,
 "nbformat_minor": 2
}
